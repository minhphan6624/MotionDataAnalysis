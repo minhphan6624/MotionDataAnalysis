{
 "cells": [
  {
   "cell_type": "markdown",
   "metadata": {},
   "source": [
    "# Import libraries"
   ]
  },
  {
   "cell_type": "code",
   "execution_count": 3,
   "metadata": {},
   "outputs": [],
   "source": [
    "import os\n",
    "import pandas as pd\n",
    "import re"
   ]
  },
  {
   "cell_type": "markdown",
   "metadata": {},
   "source": [
    "# 1- Extract sheets from the excel files"
   ]
  },
  {
   "cell_type": "code",
   "execution_count": 22,
   "metadata": {},
   "outputs": [
    {
     "name": "stdout",
     "output_type": "stream",
     "text": [
      "Processed and saved: MVN-J-Boning-64-001.xlsx\n",
      "Processed and saved: MVN-J-Boning-64-002.xlsx\n",
      "Processed and saved: MVN-J-Boning-64-003.xlsx\n",
      "Processed and saved: MVN-J-Boning-64-004.xlsx\n",
      "Processed and saved: MVN-J-Boning-64-005.xlsx\n",
      "Processed and saved: MVN-J-Boning-64-006.xlsx\n",
      "Processed and saved: MVN-J-Boning-79-001.xlsx\n",
      "Processed and saved: MVN-J-Boning-90-001.xlsx\n",
      "Processed and saved: MVN-J-Boning-90-002.xlsx\n",
      "Processed and saved: MVN-J-Boning-90-003.xlsx\n",
      "Processed and saved: MVN-J-Boning-90-004.xlsx\n",
      "Processed and saved: MVN-J-Slicing-64-001.xlsx\n",
      "Processed and saved: MVN-J-Slicing-73-001.xlsx\n",
      "Processed and saved: MVN-J-Slicing-87-001.xlsx\n",
      "Processed and saved: MVN-S-Boning-63-001.xlsx\n",
      "Processed and saved: MVN-S-Boning-63-002.xlsx\n",
      "Processed and saved: MVN-S-Boning-63-003.xlsx\n",
      "Processed and saved: MVN-S-Boning-76-001.xlsx\n",
      "Processed and saved: MVN-S-Boning-76-002.xlsx\n",
      "Processed and saved: MVN-S-Boning-89-001.xlsx\n",
      "Processed and saved: MVN-S-Boning-89-002.xlsx\n",
      "Processed and saved: MVN-S-Boning-89-003.xlsx\n",
      "Processed and saved: MVN-S-Boning-89-004.xlsx\n",
      "Processed and saved: MVN-S-Slicing-63-001.xlsx\n",
      "Processed and saved: MVN-S-Slicing-73-001.xlsx\n",
      "Processed and saved: MVN-S-Slicing-87-001.xlsx\n"
     ]
    }
   ],
   "source": [
    "# Define input and output folders\n",
    "input_folder = \"data\"\n",
    "velocity_output_folder = \"extracted_data\\\\velocity\"\n",
    "acceleration_output_folder = \"extracted_data\\\\acceleration\"\n",
    "\n",
    "# Make sure output folders exist\n",
    "os.makedirs(input_folder, exist_ok=True)\n",
    "os.makedirs(velocity_output_folder, exist_ok=True)\n",
    "os.makedirs(acceleration_output_folder, exist_ok=True)\n",
    "\n",
    "# Loop through each excel file\n",
    "for file_name in os.listdir(input_folder):\n",
    "    if file_name.endswith(\".xlsx\"):\n",
    "\n",
    "        file_path = os.path.join(input_folder, file_name)\n",
    "        xls = pd.ExcelFile(file_path)\n",
    "\n",
    "        # Read the 'Segment Velocity' and 'Segment Acceleration' sheets\n",
    "        velocity_df = xls.parse('Segment Velocity')\n",
    "        acceleration_df = xls.parse('Segment Acceleration')\n",
    "\n",
    "        # Create output paths\n",
    "        velocity_output_path = os.path.join(\n",
    "            velocity_output_folder, f\"{file_name.split('.')[0]}-Velocity.csv\")\n",
    "\n",
    "        acceleration_output_path = os.path.join(\n",
    "            acceleration_output_folder, f\"{file_name.split('.')[0]}-Acceleration.csv\")\n",
    "\n",
    "        # Save the extracted data to a new csv file\n",
    "        velocity_df.to_csv(velocity_output_path, index=False)\n",
    "        acceleration_df.to_csv(acceleration_output_path, index=False)\n",
    "\n",
    "        print(f\"Processed and saved: {file_name}\")"
   ]
  },
  {
   "cell_type": "markdown",
   "metadata": {},
   "source": [
    "# 2 - Merge velocity and acceleration datasets"
   ]
  },
  {
   "cell_type": "markdown",
   "metadata": {},
   "source": [
    "## 2.1 - Define folders"
   ]
  },
  {
   "cell_type": "code",
   "execution_count": 23,
   "metadata": {},
   "outputs": [],
   "source": [
    "# Define input and output folders\n",
    "velocity_folder = \"extracted_data\\\\velocity\"\n",
    "acceleration_folder = \"extracted_data\\\\acceleration\"\n",
    "\n",
    "# Make sure output folders exist\n",
    "os.makedirs(velocity_folder, exist_ok=True)\n",
    "os.makedirs(velocity_folder, exist_ok=True)\n",
    "\n",
    "# Define folder for saving merged files\n",
    "merged_output_folder = 'merged_data'\n",
    "os.makedirs(merged_output_folder, exist_ok=True)  # Create the merged folder if it doesn't exist"
   ]
  },
  {
   "cell_type": "markdown",
   "metadata": {},
   "source": [
    "## Handle edge cases"
   ]
  },
  {
   "cell_type": "code",
   "execution_count": 25,
   "metadata": {},
   "outputs": [],
   "source": [
    "# Function to assign labels based on the Marker sheet\n",
    "def assign_labels(frame_df, marker_df):\n",
    "    labels = []\n",
    "    \n",
    "    # Loop through the marker dataframe\n",
    "    for index, row in marker_df.iterrows():\n",
    "        # Extract frame range and label number\n",
    "        frame_range = row['Frame']  # e.g., '0-195'\n",
    "        label = int(row['Label'].split()[0])  # Extract number from '3 - Reaching'\n",
    "        \n",
    "        # Split the frame range into start and end\n",
    "        start_frame, end_frame = map(int, frame_range.split('-'))\n",
    "        \n",
    "        # Assign label to each frame in the range\n",
    "        for frame in range(start_frame, end_frame + 1):\n",
    "            labels.append((frame, label))\n",
    "    \n",
    "    # Convert the list of frame-label pairs into a DataFrame\n",
    "    label_df = pd.DataFrame(labels, columns=['Frame', 'Label'])\n",
    "    \n",
    "    # Merge the labels with the original frame data\n",
    "    merged_df = pd.merge(frame_df, label_df, on='Frame', how='left')\n",
    "    \n",
    "    return merged_df\n"
   ]
  },
  {
   "cell_type": "code",
   "execution_count": 33,
   "metadata": {},
   "outputs": [],
   "source": [
    "def preprocess_files(velocity_file, acceleration_file, marker_file=None):\n",
    "    # Load the velocity and acceleration files\n",
    "    velocity_df = pd.read_csv(os.path.join(velocity_folder, velocity_file))\n",
    "    acceleration_df = pd.read_csv(os.path.join(acceleration_folder, acceleration_file))\n",
    "\n",
    "    # Handle boning-90-003: Copy Label from velocity to acceleration\n",
    "    if 'boning-90-003' in velocity_file.lower():\n",
    "        print(f\"Fixing missing Label in acceleration sheet for: {acceleration_file}\")\n",
    "        acceleration_df['Label'] = velocity_df['Label']\n",
    "\n",
    "    # Handle slicing-64-001: Rename Marker to Label\n",
    "    if 'slicing-64-001' in velocity_file.lower():\n",
    "        print(f\"Renaming 'Marker' to 'Label' for: {velocity_file} and {acceleration_file}\")\n",
    "        velocity_df.rename(columns={'Marker': 'Label'}, inplace=True)\n",
    "        acceleration_df.rename(columns={'Marker': 'Label'}, inplace=True)\n",
    "\n",
    "    # Handle slicing-87-001: Add Label from Marker sheet\n",
    "    if 'slicing-87-001' in velocity_file.lower():\n",
    "        if marker_file is not None:\n",
    "            print(f\"Adding Label from Marker sheet for: {velocity_file} and {acceleration_file}\")\n",
    "            marker_df = pd.read_csv(marker_file)\n",
    "            velocity_df = assign_labels(velocity_df, marker_df)\n",
    "            acceleration_df = assign_labels(acceleration_df, marker_df)\n",
    "\n",
    "    # Save the preprocessed data back to CSV files (overwrite or in new location)\n",
    "    velocity_df.to_csv(os.path.join(velocity_folder, velocity_file), index=False)\n",
    "    acceleration_df.to_csv(os.path.join(acceleration_folder, acceleration_file), index=False)\n",
    "\n",
    "    return velocity_file, acceleration_file"
   ]
  },
  {
   "cell_type": "code",
   "execution_count": 35,
   "metadata": {},
   "outputs": [
    {
     "name": "stdout",
     "output_type": "stream",
     "text": [
      "Fixing missing Label in acceleration sheet for: MVN-J-boning-90-003-Acceleration.csv\n",
      "Renaming 'Marker' to 'Label' for: MVN-J-slicing-64-001-Velocity.csv and MVN-J-slicing-64-001-Acceleration.csv\n",
      "Adding Label from Marker sheet for: MVN-J-slicing-87-001-Velocity.csv and MVN-J-slicing-87-001-Acceleration.csv\n"
     ]
    }
   ],
   "source": [
    "velocity_files_to_preprocess = [\n",
    "    'MVN-J-boning-90-003-Velocity.csv',\n",
    "    'MVN-J-slicing-64-001-Velocity.csv',\n",
    "    'MVN-J-slicing-87-001-Velocity.csv'\n",
    "]\n",
    "\n",
    "acceleration_files_to_preprocess = [\n",
    "    'MVN-J-boning-90-003-Acceleration.csv',\n",
    "    'MVN-J-slicing-64-001-Acceleration.csv',\n",
    "    'MVN-J-slicing-87-001-Acceleration.csv'\n",
    "]\n",
    "\n",
    "\n",
    "# Preprocess the files\n",
    "for velocity_file, acceleration_file in zip(velocity_files_to_preprocess, acceleration_files_to_preprocess):\n",
    "\n",
    "    marker_file = None\n",
    "    if 'slicing-87-001' in velocity_file.lower():\n",
    "        marker_file = 'data\\\\MVN-J-Slicing-87-001-Marker.csv'  # Adjust this path to the actual Marker file\n",
    "        \n",
    "    preprocess_files(velocity_file, acceleration_file, marker_file)"
   ]
  },
  {
   "cell_type": "markdown",
   "metadata": {},
   "source": [
    "## 2.2 - Function to merge acceleration and velocity"
   ]
  },
  {
   "cell_type": "code",
   "execution_count": 37,
   "metadata": {},
   "outputs": [],
   "source": [
    "# Merge the velocity and acceleration data for each file\n",
    "def merge_acc_vel(velocity_file, acceleration_file):\n",
    "    # Read the velocity and acceleration data\n",
    "    velocity_df = pd.read_csv(os.path.join(velocity_folder, velocity_file))\n",
    "    acceleration_df = pd.read_csv(os.path.join(acceleration_folder, acceleration_file))\n",
    "\n",
    "    # Check if the common columns are present in both dataframes\n",
    "    common_cols = ['Frame', 'Label']\n",
    "    if not all(column in velocity_df.columns and column in acceleration_df.columns for column in common_cols):\n",
    "        print(f\"Error: Common columns not found in {velocity_file} and {acceleration_file}. Skipping...\")\n",
    "        return\n",
    "\n",
    "    # Merge the velocity and acceleration data on the common columns\n",
    "    merged_df = pd.merge(velocity_df, acceleration_df, on=common_cols, suffixes=('_Vel', '_Acc'))\n",
    "\n",
    "    # Save the merged dataframe as a new CSV file\n",
    "    merged_filename = velocity_file.replace('-Velocity', '-Merged')\n",
    "    merged_df.to_csv(os.path.join(merged_output_folder, merged_filename), index=False)\n",
    "\n",
    "    print(f\"Successfully merged and saved: {merged_filename}\")"
   ]
  },
  {
   "cell_type": "markdown",
   "metadata": {},
   "source": [
    "## 2.3 - Perform merging"
   ]
  },
  {
   "cell_type": "code",
   "execution_count": 38,
   "metadata": {},
   "outputs": [
    {
     "name": "stdout",
     "output_type": "stream",
     "text": [
      "Successfully merged and saved: MVN-J-Boning-64-001-Merged.csv\n",
      "Successfully merged and saved: MVN-J-Boning-64-002-Merged.csv\n",
      "Successfully merged and saved: MVN-J-Boning-64-003-Merged.csv\n",
      "Successfully merged and saved: MVN-J-Boning-64-004-Merged.csv\n",
      "Successfully merged and saved: MVN-J-Boning-64-005-Merged.csv\n",
      "Successfully merged and saved: MVN-J-Boning-64-006-Merged.csv\n",
      "Successfully merged and saved: MVN-J-Boning-79-001-Merged.csv\n",
      "Successfully merged and saved: MVN-J-Boning-90-001-Merged.csv\n",
      "Successfully merged and saved: MVN-J-Boning-90-002-Merged.csv\n",
      "Successfully merged and saved: MVN-J-Boning-90-003-Merged.csv\n",
      "Successfully merged and saved: MVN-J-Boning-90-004-Merged.csv\n",
      "Successfully merged and saved: MVN-J-Slicing-64-001-Merged.csv\n",
      "Successfully merged and saved: MVN-J-Slicing-73-001-Merged.csv\n",
      "Successfully merged and saved: MVN-J-Slicing-87-001-Merged.csv\n",
      "Successfully merged and saved: MVN-S-Boning-63-001-Merged.csv\n",
      "Successfully merged and saved: MVN-S-Boning-63-002-Merged.csv\n",
      "Successfully merged and saved: MVN-S-Boning-63-003-Merged.csv\n",
      "Successfully merged and saved: MVN-S-Boning-76-001-Merged.csv\n",
      "Successfully merged and saved: MVN-S-Boning-76-002-Merged.csv\n",
      "Successfully merged and saved: MVN-S-Boning-89-001-Merged.csv\n",
      "Successfully merged and saved: MVN-S-Boning-89-002-Merged.csv\n",
      "Successfully merged and saved: MVN-S-Boning-89-003-Merged.csv\n",
      "Successfully merged and saved: MVN-S-Boning-89-004-Merged.csv\n",
      "Successfully merged and saved: MVN-S-Slicing-63-001-Merged.csv\n",
      "Successfully merged and saved: MVN-S-Slicing-73-001-Merged.csv\n",
      "Successfully merged and saved: MVN-S-Slicing-87-001-Merged.csv\n"
     ]
    }
   ],
   "source": [
    "# Get the list of all velocity and acceleration files\n",
    "velocity_files = [f for f in os.listdir(velocity_folder) if f.endswith(\".csv\")]\n",
    "acceleration_files = [f for f in os.listdir(acceleration_folder) if f.endswith(\".csv\")]\n",
    "\n",
    "for velocity_file in velocity_files:\n",
    "    # Find the corresponding acceleration file by replacing \"Velocity\" with \"Acceleration\"\n",
    "    acceleration_file = velocity_file.replace(\"Velocity\", \"Acceleration\")\n",
    "    \n",
    "    if acceleration_file in acceleration_files:\n",
    "        merge_acc_vel(velocity_file, acceleration_file)\n",
    "    else:\n",
    "        print(f\"Corresponding acceleration file not found for {velocity_file}. Skipping...\")"
   ]
  },
  {
   "cell_type": "markdown",
   "metadata": {},
   "source": [
    "### Verify merging"
   ]
  },
  {
   "cell_type": "code",
   "execution_count": 43,
   "metadata": {},
   "outputs": [
    {
     "name": "stdout",
     "output_type": "stream",
     "text": [
      "YES\n",
      "[3 5 4 8 2 7]\n"
     ]
    }
   ],
   "source": [
    "df = pd.read_csv('merged_data\\\\MVN-J-Slicing-87-001-Merged.csv')\n",
    "\n",
    "df.columns\n",
    "\n",
    "print (\"YES\" if 'Label' in df.columns else \"NO\")\n",
    "\n",
    "print (df['Label'].unique())"
   ]
  },
  {
   "cell_type": "markdown",
   "metadata": {},
   "source": [
    "# 3 - Add knife category column"
   ]
  },
  {
   "cell_type": "code",
   "execution_count": 55,
   "metadata": {},
   "outputs": [
    {
     "name": "stdout",
     "output_type": "stream",
     "text": [
      "Processed and saved: categorized_data\\MVN-J-Boning-64-001.csv\n",
      "Processed and saved: categorized_data\\MVN-J-Boning-64-002.csv\n",
      "Processed and saved: categorized_data\\MVN-J-Boning-64-003.csv\n",
      "Processed and saved: categorized_data\\MVN-J-Boning-64-004.csv\n",
      "Processed and saved: categorized_data\\MVN-J-Boning-64-005.csv\n",
      "Processed and saved: categorized_data\\MVN-J-Boning-64-006.csv\n",
      "Processed and saved: categorized_data\\MVN-J-Boning-79-001.csv\n",
      "Processed and saved: categorized_data\\MVN-J-Boning-90-001.csv\n",
      "Processed and saved: categorized_data\\MVN-J-Boning-90-002.csv\n",
      "Processed and saved: categorized_data\\MVN-J-Boning-90-003.csv\n",
      "Processed and saved: categorized_data\\MVN-J-Boning-90-004.csv\n",
      "Processed and saved: categorized_data\\MVN-J-Slicing-64-001.csv\n",
      "Processed and saved: categorized_data\\MVN-J-Slicing-73-001.csv\n",
      "Processed and saved: categorized_data\\MVN-J-Slicing-87-001.csv\n",
      "Processed and saved: categorized_data\\MVN-S-Boning-63-001.csv\n",
      "Processed and saved: categorized_data\\MVN-S-Boning-63-002.csv\n",
      "Processed and saved: categorized_data\\MVN-S-Boning-63-003.csv\n",
      "Processed and saved: categorized_data\\MVN-S-Boning-76-001.csv\n",
      "Processed and saved: categorized_data\\MVN-S-Boning-76-002.csv\n",
      "Processed and saved: categorized_data\\MVN-S-Boning-89-001.csv\n",
      "Processed and saved: categorized_data\\MVN-S-Boning-89-002.csv\n",
      "Processed and saved: categorized_data\\MVN-S-Boning-89-003.csv\n",
      "Processed and saved: categorized_data\\MVN-S-Boning-89-004.csv\n",
      "Processed and saved: categorized_data\\MVN-S-Slicing-63-001.csv\n",
      "Processed and saved: categorized_data\\MVN-S-Slicing-73-001.csv\n",
      "Processed and saved: categorized_data\\MVN-S-Slicing-87-001.csv\n"
     ]
    }
   ],
   "source": [
    "\"\"\"\n",
    "Extracts the knife sharpness value from the filename and categorizes it.\n",
    ":param file_name: String, e.g., 'MVN-J-Boning-64-001_Acceleration.xlsx'\n",
    ":return: Categorical label ('Blunt', 'Medium', 'Sharp')\n",
    "\"\"\"\n",
    "# Categorize knife sharpness\n",
    "def add_sharpness_and_shift(file_name, df):\n",
    "    # Extract knife sharpness factor from filename (e.g., '64' in 'MVN-J-Boning-64-001')\n",
    "    knife_sharpness = int(file_name.split('-')[3])\n",
    "    \n",
    "    # Convert knife sharpness into categorical value\n",
    "    if knife_sharpness >= 85:\n",
    "        sharpness_category = 2  # Sharp\n",
    "    elif 70 <= knife_sharpness <= 84:\n",
    "        sharpness_category = 1  # Medium\n",
    "    else:\n",
    "        sharpness_category = 0  # Blunt\n",
    "    \n",
    "    # Add new column for sharpness category\n",
    "    df['Knife_Sharpness_Category'] = sharpness_category\n",
    "\n",
    "    # Extract the shift indicator from the filename (e.g., '001' in 'MVN-J-Boning-64-001')\n",
    "    shift_indicator = file_name.split('-')[4]  # '001', '002', etc.\n",
    "    \n",
    "    # Add new column for the shift indicator\n",
    "    df['Shift'] = shift_indicator\n",
    "    \n",
    "    return df\n",
    "\n",
    "input_folder = \"merged_data\"\n",
    "output_folder = \"categorized_data\"\n",
    "\n",
    "os.makedirs(output_folder, exist_ok=True)  # Ensure the output folder exists\n",
    "\n",
    "for file_name in os.listdir(input_folder):  \n",
    "    if file_name.endswith(\".csv\"):\n",
    "\n",
    "        file_path = os.path.join(input_folder, file_name)\n",
    "\n",
    "        # Read the CSV file into a DataFrame\n",
    "        df = pd.read_csv(file_path)\n",
    "\n",
    "        # Apply knife sharpness conversion function\n",
    "        df = add_sharpness_and_shift(file_name, df)\n",
    "\n",
    "        # Remove the \"merged\" annotation from the filename\n",
    "        new_file_name = file_name.replace(\"-Merged\", \"\")  # Replace \"Merged\" with an empty string\n",
    "\n",
    "        # Save the updated DataFrame to a new CSV file with the knife sharpness column\n",
    "        output_file_path = os.path.join(output_folder, new_file_name)\n",
    "        df.to_csv(output_file_path, index=False)\n",
    "        print(f\"Processed and saved: {output_file_path}\")"
   ]
  },
  {
   "cell_type": "code",
   "execution_count": 54,
   "metadata": {},
   "outputs": [
    {
     "name": "stdout",
     "output_type": "stream",
     "text": [
      "[2]\n",
      "(54721, 141)\n"
     ]
    }
   ],
   "source": [
    "# Test the outcome\n",
    "df = pd.read_csv('categorized_data\\\\MVN-J-Slicing-87-001.csv')\n",
    "\n",
    "print(df['Knife_Sharpness_Category'].unique())\n",
    "\n",
    "print(df.shape)"
   ]
  },
  {
   "cell_type": "markdown",
   "metadata": {},
   "source": [
    "# 4 - Merge different shift datasets for each knife sharpness and person"
   ]
  },
  {
   "cell_type": "markdown",
   "metadata": {},
   "source": [
    "## Function to merge multiple CSV files for the same knife sharpness and activity"
   ]
  },
  {
   "cell_type": "code",
   "execution_count": null,
   "metadata": {},
   "outputs": [],
   "source": [
    "# Function to merge multiple CSV files for the same knife sharpness and activity\n",
    "def merge_files_for_activity_and_sharpness(file_list, output_file):\n",
    "    merged_df = pd.concat([pd.read_csv(file) for file in file_list], ignore_index=True)\n",
    "    merged_df.to_csv(output_file, index=False)\n",
    "    print(f\"Merged file saved as {output_file}\")"
   ]
  },
  {
   "cell_type": "markdown",
   "metadata": {},
   "source": [
    "## Group the files by activity and knife sharpness"
   ]
  },
  {
   "cell_type": "code",
   "execution_count": null,
   "metadata": {},
   "outputs": [],
   "source": [
    "# Group the files by activity and knife sharpness\n",
    "def group_files_by_activity_and_sharpness(files):\n",
    "    grouped_files = {}\n",
    "    for file in files:\n",
    "        # Extract knife sharpness factor (64, 79, etc.) and activity (Boning, Slicing) from the filename\n",
    "        activity = file.split('-')[2]  # Extract activity (Boning, Slicing)\n",
    "        sharpness = file.split('-')[3]    # Extract the knife sharpness factor\n",
    "        \n",
    "        # Use both activity and sharpness as keys for grouping\n",
    "        key = f\"{activity}_{sharpness}\"\n",
    "        if key not in grouped_files:\n",
    "            grouped_files[key] = []\n",
    "        grouped_files[key].append(file)\n",
    "    \n",
    "    return grouped_files"
   ]
  },
  {
   "cell_type": "markdown",
   "metadata": {},
   "source": [
    "## Main function to process and merge files for each person"
   ]
  },
  {
   "cell_type": "code",
   "execution_count": null,
   "metadata": {},
   "outputs": [],
   "source": [
    "# Main function to process and merge files for each person\n",
    "def process_and_merge_person_files(input_folder, output_folder, person_indicator):\n",
    "    os.makedirs(output_folder, exist_ok=True)  # Ensure the output folder exists\n",
    "    \n",
    "    # Filter files for the specified person (J or S)\n",
    "    person_files = [os.path.join(input_folder, f) for f in os.listdir(input_folder) if f.startswith(f\"MVN-{person_indicator}\")]\n",
    "\n",
    "    # Group the files by activity and knife sharpness\n",
    "    grouped_files = group_files_by_activity_and_sharpness(person_files)\n",
    "\n",
    "    # Merge files for each group (e.g., Boning-64, Slicing-87)\n",
    "    for key, files in grouped_files.items():\n",
    "        output_filename = os.path.join(output_folder, f\"{person_indicator}_{key}_merged.csv\")\n",
    "        merge_files_for_activity_and_sharpness(files, output_filename)"
   ]
  },
  {
   "cell_type": "markdown",
   "metadata": {},
   "source": []
  },
  {
   "cell_type": "code",
   "execution_count": null,
   "metadata": {},
   "outputs": [],
   "source": [
    "# Example usage to merge files for Person 1 (J) and Person 2 (S)\n",
    "input_folder = \"path_to_your_data_folder\"  # Folder containing all the raw CSV files\n",
    "output_folder_person1 = \"path_to_output_person1\"  # Folder to save merged files for Person 1\n",
    "output_folder_person2 = \"path_to_output_person2\"  # Folder to save merged files for Person 2\n",
    "\n",
    "# Merge files for Person 1 (J)\n",
    "process_and_merge_person_files(input_folder, output_folder_person1, \"J\")\n",
    "\n",
    "# Merge files for Person 2 (S)\n",
    "process_and_merge_person_files(input_folder, output_folder_person2, \"S\")"
   ]
  },
  {
   "cell_type": "markdown",
   "metadata": {},
   "source": [
    "# 5 - Convert to 1-minute interval "
   ]
  },
  {
   "cell_type": "code",
   "execution_count": null,
   "metadata": {},
   "outputs": [],
   "source": []
  }
 ],
 "metadata": {
  "kernelspec": {
   "display_name": "Python 3",
   "language": "python",
   "name": "python3"
  },
  "language_info": {
   "codemirror_mode": {
    "name": "ipython",
    "version": 3
   },
   "file_extension": ".py",
   "mimetype": "text/x-python",
   "name": "python",
   "nbconvert_exporter": "python",
   "pygments_lexer": "ipython3",
   "version": "3.10.0"
  }
 },
 "nbformat": 4,
 "nbformat_minor": 2
}
