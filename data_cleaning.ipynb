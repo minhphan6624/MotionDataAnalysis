{
 "cells": [
  {
   "cell_type": "markdown",
   "metadata": {},
   "source": [
    "# Import libarires"
   ]
  },
  {
   "cell_type": "code",
   "execution_count": 5,
   "metadata": {},
   "outputs": [],
   "source": [
    "import pandas as pd\n",
    "import numpy as np\n",
    "import matplotlib.pyplot as plt\n",
    "import seaborn as sns\n",
    "from sklearn.preprocessing import StandardScaler\n"
   ]
  },
  {
   "cell_type": "markdown",
   "metadata": {},
   "source": [
    "# 1 - Data cleaning"
   ]
  },
  {
   "cell_type": "code",
   "execution_count": 9,
   "metadata": {},
   "outputs": [
    {
     "name": "stdout",
     "output_type": "stream",
     "text": [
      "   Minute  Label  Knife_Sharpness_Category  Shift  Pelvis x_Vel  Pelvis y_Vel  \\\n",
      "0       0      4                         0      1           0.0           0.0   \n",
      "1       1      4                         0      1           0.0           0.0   \n",
      "2       2      4                         0      1           0.0           0.0   \n",
      "3       3      0                         0      1           0.0           0.0   \n",
      "4       4      0                         0      1           0.0           0.0   \n",
      "\n",
      "   Pelvis z_Vel  L5 x_Vel  L5 y_Vel  L5 z_Vel  ...  Left Lower Leg y_Acc  \\\n",
      "0           0.0  0.027806 -0.051742  0.198527  ...             -0.070723   \n",
      "1           0.0  0.043772 -0.035047  0.252839  ...              0.056990   \n",
      "2           0.0 -0.019464  0.056012  0.228783  ...              0.253975   \n",
      "3           0.0 -0.136964  0.101034  0.211410  ...             -0.406729   \n",
      "4           0.0 -0.040060 -0.060612  0.178886  ...              0.059038   \n",
      "\n",
      "   Left Lower Leg z_Acc  Left Foot x_Acc  Left Foot y_Acc  Left Foot z_Acc  \\\n",
      "0              0.009045         0.120245        -0.055962         0.012711   \n",
      "1             -0.010770        -0.115387         0.005737        -0.008283   \n",
      "2             -0.032511        -0.146387         0.185996         0.018817   \n",
      "3             -0.010531         0.223051        -0.237223        -0.059320   \n",
      "4              0.017141         0.023653         0.019572         0.023048   \n",
      "\n",
      "   Left Toe x_Acc  Left Toe y_Acc  Left Toe z_Acc  Main_Activity  Worker  \n",
      "0        0.122279       -0.039814        0.015926              0       1  \n",
      "1       -0.113139        0.001427       -0.004689              0       1  \n",
      "2       -0.173892        0.183788        0.020886              0       1  \n",
      "3        0.221054       -0.234018       -0.055876              0       1  \n",
      "4        0.023015        0.020380        0.039223              0       1  \n",
      "\n",
      "[5 rows x 144 columns]\n",
      "(8840, 144)\n"
     ]
    }
   ],
   "source": [
    "# Load the dataset\n",
    "df = pd.read_csv('bone_slice_merged\\\\allworkers.csv')\n",
    "\n",
    "# Preview the first few rows\n",
    "print(df.head())\n",
    "print(df.shape)"
   ]
  },
  {
   "cell_type": "markdown",
   "metadata": {},
   "source": [
    "## 1.1 - Check for missing values"
   ]
  },
  {
   "cell_type": "code",
   "execution_count": 14,
   "metadata": {},
   "outputs": [
    {
     "name": "stdout",
     "output_type": "stream",
     "text": [
      "Series([], dtype: int64)\n"
     ]
    }
   ],
   "source": [
    "missing_values = df.isnull().sum()\n",
    "\n",
    "# print the columns whose missing values are greater than 0\n",
    "print(missing_values[missing_values > 0])\n",
    "# print(missing_values)\n",
    "# print(df.shape)"
   ]
  },
  {
   "cell_type": "markdown",
   "metadata": {},
   "source": [
    "-> There is no missing values in the dataset"
   ]
  },
  {
   "cell_type": "markdown",
   "metadata": {},
   "source": [
    "## 1.2 - Check for duplicates"
   ]
  },
  {
   "cell_type": "code",
   "execution_count": 15,
   "metadata": {},
   "outputs": [
    {
     "name": "stdout",
     "output_type": "stream",
     "text": [
      "0\n"
     ]
    }
   ],
   "source": [
    "# Check for duplicates\n",
    "duplicates = df.duplicated().sum()\n",
    "\n",
    "print(duplicates)"
   ]
  },
  {
   "cell_type": "markdown",
   "metadata": {},
   "source": [
    "-> There is no duplicates in the dataset"
   ]
  },
  {
   "cell_type": "code",
   "execution_count": null,
   "metadata": {},
   "outputs": [],
   "source": []
  },
  {
   "cell_type": "code",
   "execution_count": null,
   "metadata": {},
   "outputs": [],
   "source": []
  }
 ],
 "metadata": {
  "kernelspec": {
   "display_name": "Python 3",
   "language": "python",
   "name": "python3"
  },
  "language_info": {
   "codemirror_mode": {
    "name": "ipython",
    "version": 3
   },
   "file_extension": ".py",
   "mimetype": "text/x-python",
   "name": "python",
   "nbconvert_exporter": "python",
   "pygments_lexer": "ipython3",
   "version": "3.10.0"
  }
 },
 "nbformat": 4,
 "nbformat_minor": 2
}
