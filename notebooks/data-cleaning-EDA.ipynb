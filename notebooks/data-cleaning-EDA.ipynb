{
 "cells": [
  {
   "cell_type": "markdown",
   "metadata": {},
   "source": [
    "# Import libarires"
   ]
  },
  {
   "cell_type": "code",
   "execution_count": 1,
   "metadata": {},
   "outputs": [],
   "source": [
    "import pandas as pd\n",
    "import numpy as np\n",
    "import matplotlib.pyplot as plt\n",
    "import seaborn as sns\n",
    "from sklearn.preprocessing import StandardScaler\n"
   ]
  },
  {
   "cell_type": "markdown",
   "metadata": {},
   "source": [
    "# 1 - Data cleaning"
   ]
  },
  {
   "cell_type": "code",
   "execution_count": 8,
   "metadata": {},
   "outputs": [
    {
     "name": "stdout",
     "output_type": "stream",
     "text": [
      "   Minute  Label  Knife_Sharpness_Category  Shift  Pelvis x_Vel  Pelvis y_Vel  \\\n",
      "0       0      4                         0      1           0.0           0.0   \n",
      "1       1      4                         0      1           0.0           0.0   \n",
      "2       2      4                         0      1           0.0           0.0   \n",
      "3       3      0                         0      1           0.0           0.0   \n",
      "4       4      0                         0      1           0.0           0.0   \n",
      "\n",
      "   Pelvis z_Vel  L5 x_Vel  L5 y_Vel  L5 z_Vel  ...  Left Lower Leg y_Acc  \\\n",
      "0           0.0  0.027806 -0.051742  0.198527  ...             -0.070723   \n",
      "1           0.0  0.043772 -0.035047  0.252839  ...              0.056990   \n",
      "2           0.0 -0.019464  0.056012  0.228783  ...              0.253975   \n",
      "3           0.0 -0.136964  0.101034  0.211410  ...             -0.406729   \n",
      "4           0.0 -0.040060 -0.060612  0.178886  ...              0.059038   \n",
      "\n",
      "   Left Lower Leg z_Acc  Left Foot x_Acc  Left Foot y_Acc  Left Foot z_Acc  \\\n",
      "0              0.009045         0.120245        -0.055962         0.012711   \n",
      "1             -0.010770        -0.115387         0.005737        -0.008283   \n",
      "2             -0.032511        -0.146387         0.185996         0.018817   \n",
      "3             -0.010531         0.223051        -0.237223        -0.059320   \n",
      "4              0.017141         0.023653         0.019572         0.023048   \n",
      "\n",
      "   Left Toe x_Acc  Left Toe y_Acc  Left Toe z_Acc  Main_Activity  Worker  \n",
      "0        0.122279       -0.039814        0.015926              0       1  \n",
      "1       -0.113139        0.001427       -0.004689              0       1  \n",
      "2       -0.173892        0.183788        0.020886              0       1  \n",
      "3        0.221054       -0.234018       -0.055876              0       1  \n",
      "4        0.023015        0.020380        0.039223              0       1  \n",
      "\n",
      "[5 rows x 144 columns]\n",
      "(8840, 144)\n"
     ]
    }
   ],
   "source": [
    "# Load the dataset\n",
    "df = pd.read_csv('../data/final_data/AllWorkers.csv')\n",
    "\n",
    "# Preview the first few rows\n",
    "print(df.head())\n",
    "print(df.shape)"
   ]
  },
  {
   "cell_type": "code",
   "execution_count": 9,
   "metadata": {},
   "outputs": [
    {
     "name": "stdout",
     "output_type": "stream",
     "text": [
      "Index(['Minute', 'Label', 'Knife_Sharpness_Category', 'Shift', 'Pelvis x_Vel',\n",
      "       'Pelvis y_Vel', 'Pelvis z_Vel', 'L5 x_Vel', 'L5 y_Vel', 'L5 z_Vel',\n",
      "       ...\n",
      "       'Left Lower Leg y_Acc', 'Left Lower Leg z_Acc', 'Left Foot x_Acc',\n",
      "       'Left Foot y_Acc', 'Left Foot z_Acc', 'Left Toe x_Acc',\n",
      "       'Left Toe y_Acc', 'Left Toe z_Acc', 'Main_Activity', 'Worker'],\n",
      "      dtype='object', length=144)\n"
     ]
    }
   ],
   "source": [
    "print(df.columns)"
   ]
  },
  {
   "cell_type": "markdown",
   "metadata": {},
   "source": [
    "## 1.1 - Check for missing values"
   ]
  },
  {
   "cell_type": "code",
   "execution_count": 10,
   "metadata": {},
   "outputs": [
    {
     "name": "stdout",
     "output_type": "stream",
     "text": [
      "Series([], dtype: int64)\n"
     ]
    }
   ],
   "source": [
    "missing_values = df.isnull().sum()\n",
    "\n",
    "# print the columns whose missing values are greater than 0\n",
    "print(missing_values[missing_values > 0])\n",
    "# print(missing_values)\n",
    "# print(df.shape)"
   ]
  },
  {
   "cell_type": "markdown",
   "metadata": {},
   "source": [
    "-> There is no missing values in the dataset"
   ]
  },
  {
   "cell_type": "markdown",
   "metadata": {},
   "source": [
    "## 1.2 - Check for duplicates"
   ]
  },
  {
   "cell_type": "code",
   "execution_count": 11,
   "metadata": {},
   "outputs": [
    {
     "name": "stdout",
     "output_type": "stream",
     "text": [
      "0\n"
     ]
    }
   ],
   "source": [
    "# Check for duplicates\n",
    "duplicates = df.duplicated().sum()\n",
    "\n",
    "print(duplicates)"
   ]
  },
  {
   "cell_type": "markdown",
   "metadata": {},
   "source": [
    "-> There is no duplicates in the dataset"
   ]
  },
  {
   "cell_type": "markdown",
   "metadata": {},
   "source": [
    "## 1.3 - Drop unecessary columns"
   ]
  },
  {
   "cell_type": "code",
   "execution_count": 12,
   "metadata": {},
   "outputs": [
    {
     "name": "stdout",
     "output_type": "stream",
     "text": [
      "Index(['Pelvis x_Vel', 'Pelvis y_Vel', 'Pelvis z_Vel', 'Pelvis x_Acc',\n",
      "       'Pelvis y_Acc', 'Pelvis z_Acc'],\n",
      "      dtype='object')\n",
      "(8840, 135)\n"
     ]
    }
   ],
   "source": [
    "# select columns with constant values\n",
    "constant_columns = df.columns[df.nunique() <= 1]\n",
    "print(constant_columns)\n",
    "\n",
    "# Drop the constant columns\n",
    "df.drop(constant_columns, axis=1, inplace=True)\n",
    "\n",
    "# Drop the minutes column if exists\n",
    "if 'Minute' in df.columns:\n",
    "    df.drop(['Minute'], axis=1, inplace=True)\n",
    "\n",
    "# Drop the worker column if exists\n",
    "if 'Worker' in df.columns:\n",
    "    df.drop(['Worker'], axis=1, inplace=True)\n",
    "\n",
    "if 'Shift' in df.columns:\n",
    "    df.drop(['Shift'], axis=1, inplace=True)\n",
    "\n",
    "\n",
    "print (df.shape) "
   ]
  },
  {
   "cell_type": "markdown",
   "metadata": {},
   "source": [
    "## 1.4 - Fix data types"
   ]
  },
  {
   "cell_type": "code",
   "execution_count": 13,
   "metadata": {},
   "outputs": [],
   "source": [
    "# 2. Fix data types\n",
    "df['Label'] = df['Label'].astype('category')\n",
    "df['Main_Activity'] = df['Main_Activity'].astype('category')\n",
    "df['Knife_Sharpness_Category'] = df['Knife_Sharpness_Category'].astype('category')"
   ]
  },
  {
   "cell_type": "markdown",
   "metadata": {},
   "source": [
    "## 1.3 - Handle outliers"
   ]
  },
  {
   "cell_type": "code",
   "execution_count": 15,
   "metadata": {},
   "outputs": [],
   "source": [
    "import matplotlib.pyplot as plt\n",
    "import seaborn as sns\n",
    "\n",
    "# Function to visualize outliers using boxplots\n",
    "def plot_outliers(df, feature_groups):\n",
    "    for i, group in enumerate(feature_groups):\n",
    "        plt.figure(figsize=(16, 6))\n",
    "        sns.boxplot(data=df[group])\n",
    "        plt.xticks(rotation=90)\n",
    "        plt.title(f'Boxplot for Feature Group {i+1}')\n",
    "        plt.show()\n",
    "\n",
    "# Select numerical columns for visualization\n",
    "numerical_columns = df.select_dtypes(include=['float64', 'int64']).columns\n",
    "\n",
    "# Divide numerical features into groups of 20 for visualization\n",
    "\n",
    "feature_groups = [numerical_columns[i:i+20] for i in range(0, len(numerical_columns), 10)]\n",
    "\n",
    "# Call the function to visualize the outliers for each group\n",
    "# plot_outliers(df, feature_groups)\n"
   ]
  },
  {
   "cell_type": "markdown",
   "metadata": {},
   "source": [
    "### Handle outliers using winsorization"
   ]
  },
  {
   "cell_type": "code",
   "execution_count": 16,
   "metadata": {},
   "outputs": [],
   "source": [
    "# Capping the outliers using winsorization\n",
    "from scipy.stats.mstats import winsorize\n",
    "\n",
    "# Apply the winsorization method to cap the outliers\n",
    "df[numerical_columns] = df[numerical_columns].apply(lambda x: winsorize(x, limits=[0.05, 0.1]))\n",
    "\n",
    "# Call the function to visualize the outliers for each group after winsorization\n",
    "# plot_outliers(df, feature_groups)\n"
   ]
  },
  {
   "cell_type": "markdown",
   "metadata": {},
   "source": [
    "## 1.4 - Check for class consistency"
   ]
  },
  {
   "cell_type": "code",
   "execution_count": 17,
   "metadata": {},
   "outputs": [
    {
     "name": "stdout",
     "output_type": "stream",
     "text": [
      "Unique categories in Label: [4, 0, 2, 3, 8, 1, 5, 7, 6]\n",
      "Categories (9, int64): [0, 1, 2, 3, ..., 5, 6, 7, 8]\n",
      "Unique categories in Knife_Sharpness_Category: [0, 1, 2]\n",
      "Categories (3, int64): [0, 1, 2]\n",
      "Unique categories in Main_Activity: [0, 1]\n",
      "Categories (2, int64): [0, 1]\n"
     ]
    }
   ],
   "source": [
    "# Check for inconsistent categories in categorical variables\n",
    "categorical_columns = df.select_dtypes(include=['category']).columns\n",
    "\n",
    "for col in categorical_columns:\n",
    "    print(f'Unique categories in {col}: {df[col].unique()}')\n",
    "    "
   ]
  },
  {
   "cell_type": "markdown",
   "metadata": {},
   "source": [
    "# Split and save the datasets"
   ]
  },
  {
   "cell_type": "code",
   "execution_count": 18,
   "metadata": {},
   "outputs": [
    {
     "name": "stdout",
     "output_type": "stream",
     "text": [
      "(8840, 135)\n"
     ]
    }
   ],
   "source": [
    "print (df.shape)"
   ]
  },
  {
   "cell_type": "code",
   "execution_count": 20,
   "metadata": {},
   "outputs": [],
   "source": [
    "# Shuffle and save the cleaned dataset\n",
    "df = df.sample(frac=1, random_state=1).reset_index(drop=True)\n",
    "\n",
    "# Take out 20% of the data as a real-time test set\n",
    "test_size = int(df.shape[0] * 0.1)\n",
    "test_data = df.iloc[:test_size]\n",
    "train_data = df.iloc[test_size:]\n",
    "\n",
    "# Save the cleaned datasets\n",
    "train_data.to_csv('..\\\\data\\\\final_data\\\\cleaned_train_data.csv', index=False)\n",
    "test_data.to_csv('..\\\\data\\\\final_data\\\\cleaned_test_data.csv', index=False)\n",
    "\n",
    "# df.to_csv('data\\\\final_data\\\\cleaned_allworkers.csv', index=False)"
   ]
  },
  {
   "cell_type": "markdown",
   "metadata": {},
   "source": [
    "# 2 - EDA"
   ]
  },
  {
   "cell_type": "code",
   "execution_count": null,
   "metadata": {},
   "outputs": [],
   "source": [
    "import pandas as pd\n",
    "import numpy as np\n",
    "import matplotlib.pyplot as plt\n",
    "import seaborn as sns\n",
    "import itertools"
   ]
  },
  {
   "cell_type": "code",
   "execution_count": null,
   "metadata": {},
   "outputs": [
    {
     "name": "stdout",
     "output_type": "stream",
     "text": [
      "  Label Knife_Sharpness_Category  L5 x_Vel  L5 y_Vel  L5 z_Vel  L3 x_Vel  \\\n",
      "0     4                        0  0.027806 -0.051742 -0.057466  0.022352   \n",
      "1     4                        0  0.043772 -0.035047 -0.057466  0.052638   \n",
      "2     4                        0 -0.019464  0.056012 -0.057466 -0.017915   \n",
      "3     0                        0 -0.136964  0.101034 -0.057466 -0.138453   \n",
      "4     0                        0 -0.040060 -0.060612 -0.057466 -0.038808   \n",
      "\n",
      "   L3 y_Vel  L3 z_Vel  T12 x_Vel  T12 y_Vel  ...  Left Lower Leg x_Acc  \\\n",
      "0 -0.049677 -0.057988   0.021686  -0.046641  ...              0.132128   \n",
      "1 -0.037024 -0.057988   0.060847  -0.039494  ...             -0.174994   \n",
      "2  0.053371 -0.057988  -0.024526   0.051374  ...              0.052290   \n",
      "3  0.113083 -0.057988  -0.137405   0.122685  ...              0.095499   \n",
      "4 -0.068069 -0.057988  -0.037377  -0.075789  ...              0.037040   \n",
      "\n",
      "   Left Lower Leg y_Acc  Left Lower Leg z_Acc  Left Foot x_Acc  \\\n",
      "0             -0.070723              0.009045         0.120245   \n",
      "1              0.056990             -0.010770        -0.115387   \n",
      "2              0.163291             -0.032511        -0.146387   \n",
      "3             -0.259260             -0.010531         0.199720   \n",
      "4              0.059038              0.017141         0.023653   \n",
      "\n",
      "   Left Foot y_Acc  Left Foot z_Acc  Left Toe x_Acc  Left Toe y_Acc  \\\n",
      "0        -0.055962         0.012711        0.122279       -0.039814   \n",
      "1         0.005737        -0.008283       -0.113139        0.001427   \n",
      "2         0.185996         0.018817       -0.173892        0.183788   \n",
      "3        -0.237223        -0.059320        0.203750       -0.234018   \n",
      "4         0.019572         0.023048        0.023015        0.020380   \n",
      "\n",
      "   Left Toe z_Acc  Main_Activity  \n",
      "0        0.015926              0  \n",
      "1       -0.004689              0  \n",
      "2        0.020886              0  \n",
      "3       -0.055876              0  \n",
      "4        0.039223              0  \n",
      "\n",
      "[5 rows x 135 columns]\n"
     ]
    }
   ],
   "source": [
    "df = pd.read_csv('data\\\\final_data\\\\cleaned_allworkers.csv')\n",
    "\n",
    "print(df.head())  # First few rows"
   ]
  },
  {
   "cell_type": "code",
   "execution_count": 14,
   "metadata": {},
   "outputs": [
    {
     "name": "stdout",
     "output_type": "stream",
     "text": [
      "                  count      mean       std       min       25%       50%  \\\n",
      "L5 x_Vel         8840.0 -0.011160  0.063468 -0.144146 -0.050015 -0.005936   \n",
      "L5 y_Vel         8840.0  0.020432  0.067942 -0.121069 -0.023475  0.023498   \n",
      "L5 z_Vel         8840.0 -1.777840  1.149936 -3.616572 -2.763266 -1.786975   \n",
      "L3 x_Vel         8840.0 -0.011028  0.064153 -0.145651 -0.049869 -0.006291   \n",
      "L3 y_Vel         8840.0  0.020247  0.067700 -0.118776 -0.024690  0.023239   \n",
      "...                 ...       ...       ...       ...       ...       ...   \n",
      "Left Foot y_Acc  8840.0 -0.006184  0.140659 -0.325107 -0.076925  0.000620   \n",
      "Left Foot z_Acc  8840.0 -0.006470  0.069646 -0.191993 -0.031333 -0.000318   \n",
      "Left Toe x_Acc   8840.0 -0.009496  0.136020 -0.318188 -0.079940 -0.000171   \n",
      "Left Toe y_Acc   8840.0 -0.006760  0.142522 -0.329491 -0.078924  0.000464   \n",
      "Left Toe z_Acc   8840.0  0.004514  0.063023 -0.143588 -0.024028  0.006595   \n",
      "\n",
      "                      75%       max  \n",
      "L5 x_Vel         0.034040  0.084746  \n",
      "L5 y_Vel         0.073340  0.121158  \n",
      "L5 z_Vel        -0.871192 -0.057466  \n",
      "L3 x_Vel         0.034524  0.086186  \n",
      "L3 y_Vel         0.073354  0.120847  \n",
      "...                   ...       ...  \n",
      "Left Foot y_Acc  0.081423  0.214835  \n",
      "Left Foot z_Acc  0.032767  0.097374  \n",
      "Left Toe x_Acc   0.074843  0.203750  \n",
      "Left Toe y_Acc   0.080526  0.218787  \n",
      "Left Toe z_Acc   0.040384  0.106803  \n",
      "\n",
      "[132 rows x 8 columns]\n"
     ]
    }
   ],
   "source": [
    "print(df.describe().T)  # Summary statistics for numerical variables"
   ]
  },
  {
   "cell_type": "code",
   "execution_count": 16,
   "metadata": {},
   "outputs": [
    {
     "data": {
      "image/png": "[encoded data removed]",
      "text/plain": [
       "<Figure size 640x480 with 1 Axes>"
      ]
     },
     "metadata": {},
     "output_type": "display_data"
    },
    {
     "data": {
      "image/png": "[encoded data removed]",
      "text/plain": [
       "<Figure size 640x480 with 1 Axes>"
      ]
     },
     "metadata": {},
     "output_type": "display_data"
    },
    {
     "data": {
      "image/png": "[encoded data removed]",
      "text/plain": [
       "<Figure size 640x480 with 1 Axes>"
      ]
     },
     "metadata": {},
     "output_type": "display_data"
    }
   ],
   "source": [
    "categorical_columns = ['Main_Activity', 'Label', 'Knife_Sharpness_Category']\n",
    "numerical_columns = df.select_dtypes(include=['float64', 'int64']).columns\n",
    "\n",
    "for var in categorical_columns:\n",
    "    plt.figure()\n",
    "    sns.countplot(x=var, data=df)\n",
    "    plt.show()"
   ]
  },
  {
   "cell_type": "code",
   "execution_count": null,
   "metadata": {},
   "outputs": [],
   "source": [
    "# Create the plot\n",
    "fig = plot_feature_distributions(\n",
    "    df=df,\n",
    "    feature_cols=numerical_columns,\n",
    "    target_cols=categorical_columns,\n",
    "    n_cols=3,  # Number of columns in the grid\n",
    "    figsize=(15, None)  # Width=15, height auto-calculated\n",
    ")\n",
    "\n",
    "# Show the plot\n",
    "plt.show()"
   ]
  },
  {
   "cell_type": "markdown",
   "metadata": {},
   "source": [
    "## Multivariate analysis\n"
   ]
  }
 ],
 "metadata": {
  "kernelspec": {
   "display_name": "venv",
   "language": "python",
   "name": "python3"
  },
  "language_info": {
   "codemirror_mode": {
    "name": "ipython",
    "version": 3
   },
   "file_extension": ".py",
   "mimetype": "text/x-python",
   "name": "python",
   "nbconvert_exporter": "python",
   "pygments_lexer": "ipython3",
   "version": "3.12.7"
  }
 },
 "nbformat": 4,
 "nbformat_minor": 4
}
